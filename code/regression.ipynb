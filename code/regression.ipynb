{
 "cells": [
  {
   "cell_type": "code",
   "execution_count": 2,
   "metadata": {},
   "outputs": [],
   "source": [
    "import pandas as pd\n",
    "import numpy as np\n",
    "import matplotlib.pyplot as plt\n",
    "import seaborn as sns\n",
    "\n",
    "sns.set_style('whitegrid')"
   ]
  },
  {
   "cell_type": "code",
   "execution_count": 3,
   "metadata": {},
   "outputs": [],
   "source": [
    "#prices\n",
    "dam = pd.read_csv('dam.csv')\n",
    "fuels = pd.read_csv('fuels.csv')\n",
    "cap = pd.read_csv('cap.csv')"
   ]
  },
  {
   "cell_type": "code",
   "execution_count": 6,
   "metadata": {},
   "outputs": [],
   "source": [
    "locs = ['GJ', 'LI', 'NYC']\n",
    "\n",
    "gen = {}\n",
    "\n",
    "for loc in locs:\n",
    "    gen[loc] = pd.read_csv(f'../data\\Generating_Capacity_{loc}_11-23.csv')\n",
    "\n",
    "gen['NYCA'] = pd.read_csv('../data\\Generating_Capacity_NYCA_04-23.csv')"
   ]
  },
  {
   "cell_type": "code",
   "execution_count": 10,
   "metadata": {},
   "outputs": [
    {
     "data": {
      "text/html": [
       "<div>\n",
       "<style scoped>\n",
       "    .dataframe tbody tr th:only-of-type {\n",
       "        vertical-align: middle;\n",
       "    }\n",
       "\n",
       "    .dataframe tbody tr th {\n",
       "        vertical-align: top;\n",
       "    }\n",
       "\n",
       "    .dataframe thead th {\n",
       "        text-align: right;\n",
       "    }\n",
       "</style>\n",
       "<table border=\"1\" class=\"dataframe\">\n",
       "  <thead>\n",
       "    <tr style=\"text-align: right;\">\n",
       "      <th></th>\n",
       "      <th>Date</th>\n",
       "      <th>NYCA</th>\n",
       "      <th>NYC</th>\n",
       "      <th>LI</th>\n",
       "      <th>G-J</th>\n",
       "    </tr>\n",
       "  </thead>\n",
       "  <tbody>\n",
       "    <tr>\n",
       "      <th>0</th>\n",
       "      <td>2006-01-31</td>\n",
       "      <td>71.063608</td>\n",
       "      <td>77.892083</td>\n",
       "      <td>90.131169</td>\n",
       "      <td>75.150094</td>\n",
       "    </tr>\n",
       "    <tr>\n",
       "      <th>1</th>\n",
       "      <td>2006-02-28</td>\n",
       "      <td>66.316258</td>\n",
       "      <td>72.224866</td>\n",
       "      <td>93.183423</td>\n",
       "      <td>69.285882</td>\n",
       "    </tr>\n",
       "    <tr>\n",
       "      <th>2</th>\n",
       "      <td>2006-03-31</td>\n",
       "      <td>61.063118</td>\n",
       "      <td>69.330995</td>\n",
       "      <td>83.718024</td>\n",
       "      <td>63.911855</td>\n",
       "    </tr>\n",
       "    <tr>\n",
       "      <th>3</th>\n",
       "      <td>2006-04-30</td>\n",
       "      <td>60.440474</td>\n",
       "      <td>66.244896</td>\n",
       "      <td>87.301433</td>\n",
       "      <td>63.217510</td>\n",
       "    </tr>\n",
       "    <tr>\n",
       "      <th>4</th>\n",
       "      <td>2006-05-31</td>\n",
       "      <td>57.136391</td>\n",
       "      <td>62.234140</td>\n",
       "      <td>75.975242</td>\n",
       "      <td>60.800796</td>\n",
       "    </tr>\n",
       "  </tbody>\n",
       "</table>\n",
       "</div>"
      ],
      "text/plain": [
       "         Date       NYCA        NYC         LI        G-J\n",
       "0  2006-01-31  71.063608  77.892083  90.131169  75.150094\n",
       "1  2006-02-28  66.316258  72.224866  93.183423  69.285882\n",
       "2  2006-03-31  61.063118  69.330995  83.718024  63.911855\n",
       "3  2006-04-30  60.440474  66.244896  87.301433  63.217510\n",
       "4  2006-05-31  57.136391  62.234140  75.975242  60.800796"
      ]
     },
     "execution_count": 10,
     "metadata": {},
     "output_type": "execute_result"
    }
   ],
   "source": []
  }
 ],
 "metadata": {
  "kernelspec": {
   "display_name": "base",
   "language": "python",
   "name": "python3"
  },
  "language_info": {
   "codemirror_mode": {
    "name": "ipython",
    "version": 3
   },
   "file_extension": ".py",
   "mimetype": "text/x-python",
   "name": "python",
   "nbconvert_exporter": "python",
   "pygments_lexer": "ipython3",
   "version": "3.9.16"
  },
  "orig_nbformat": 4
 },
 "nbformat": 4,
 "nbformat_minor": 2
}
