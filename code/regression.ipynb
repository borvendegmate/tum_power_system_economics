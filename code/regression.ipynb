{
 "cells": [
  {
   "cell_type": "code",
   "execution_count": 34,
   "metadata": {},
   "outputs": [],
   "source": [
    "import pandas as pd\n",
    "import numpy as np\n",
    "import matplotlib.pyplot as plt\n",
    "import seaborn as sns\n",
    "\n",
    "sns.set_style('whitegrid')"
   ]
  },
  {
   "cell_type": "code",
   "execution_count": 35,
   "metadata": {},
   "outputs": [],
   "source": [
    "#prices\n",
    "\n",
    "dam = pd.read_csv('dam.csv')\n",
    "fuels = pd.read_csv('fuels.csv')\n",
    "cap = pd.read_csv('cap.csv')"
   ]
  },
  {
   "cell_type": "code",
   "execution_count": 43,
   "metadata": {},
   "outputs": [],
   "source": [
    "dam = dam.set_index(pd.to_datetime(dam['Date']))\n",
    "dam.columns = ['Date', 'nyca_dam', 'nyc_dam', 'li_dam', 'gj_dam']\n"
   ]
  },
  {
   "cell_type": "code",
   "execution_count": 37,
   "metadata": {},
   "outputs": [],
   "source": [
    "fuels = fuels.set_index(pd.to_datetime(fuels['Date']))"
   ]
  },
  {
   "cell_type": "code",
   "execution_count": 46,
   "metadata": {},
   "outputs": [],
   "source": [
    "cap = cap.set_index(pd.to_datetime(cap['Date'], format = '%b-%y'))\n",
    "cap.columns = ['Date', 'nyca_icap', 'gj_icap', 'nyc_icap', 'li_icap']"
   ]
  },
  {
   "cell_type": "code",
   "execution_count": 39,
   "metadata": {},
   "outputs": [],
   "source": [
    "locs = ['GJ', 'LI', 'NYC']\n",
    "\n",
    "gen = {}\n",
    "\n",
    "for loc in locs:\n",
    "    gen[loc] = pd.read_csv(f'../data\\Generating_Capacity_{loc}_11-23.csv')\n",
    "    gen[loc] = (gen[loc]\n",
    "                .set_index(pd.to_datetime(gen[loc]['Date']))\n",
    "                .drop('Date', axis = 1))\n",
    "\n",
    "gen['NYCA'] = pd.read_csv('../data\\Generating_Capacity_NYCA_04-23.csv')\n",
    "gen['NYCA'] = (gen['NYCA']\n",
    "               .set_index(pd.to_datetime(gen['NYCA']['Date']))\n",
    "               .drop('Date', axis = 1))"
   ]
  },
  {
   "cell_type": "code",
   "execution_count": null,
   "metadata": {},
   "outputs": [],
   "source": []
  },
  {
   "cell_type": "code",
   "execution_count": null,
   "metadata": {},
   "outputs": [],
   "source": []
  }
 ],
 "metadata": {
  "kernelspec": {
   "display_name": "base",
   "language": "python",
   "name": "python3"
  },
  "language_info": {
   "codemirror_mode": {
    "name": "ipython",
    "version": 3
   },
   "file_extension": ".py",
   "mimetype": "text/x-python",
   "name": "python",
   "nbconvert_exporter": "python",
   "pygments_lexer": "ipython3",
   "version": "3.9.16"
  },
  "orig_nbformat": 4
 },
 "nbformat": 4,
 "nbformat_minor": 2
}
